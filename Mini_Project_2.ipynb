{
 "cells": [
  {
   "cell_type": "markdown",
   "metadata": {},
   "source": [
    "# Mini-Project 2: Oracle for Shor's Algorithm\n",
    "\n",
    "This notebook implements the following multiplication after taking in two inputs for $a$ and $N$ such that $a<N$ and $n=\\lceil\\log_{2}{N}\\rceil$:\n",
    "\n",
    "$$U|x\\rangle_1|y\\rangle_n = \n",
    "\\begin{cases} \n",
    "|x\\rangle_1|a y \\mod N\\rangle_n & \\text{if } x=1 \\\\\n",
    "|x\\rangle_1|y\\rangle_n & \\text{if } x=0\n",
    "\\end{cases}$$\n",
    "\n",
    "In this next cell, I define the function modular_mult_oracle which satisfies the requirements above:"
   ]
  },
  {
   "cell_type": "code",
   "execution_count": null,
   "metadata": {},
   "outputs": [],
   "source": [
    "from qiskit import QuantumCircuit, QuantumRegister\n",
    "from qiskit.circuit.library import QFT\n",
    "from qiskit.quantum_info import Statevector\n",
    "import numpy as np\n",
    "\n",
    "def modular_mult_oracle(a, N):\n",
    "    n = int(np.ceil(np.log2(N))) \n",
    "    \n",
    "    x = QuantumRegister(1, 'x')         \n",
    "    y = QuantumRegister(n, 'y')          \n",
    "    anc = QuantumRegister(2, 'anc')      \n",
    "    qc = QuantumCircuit(x, y, anc)\n",
    "\n",
    "    qc.x(y)\n",
    "    qc.mcx(list(y) + [x[0]], anc[0])    \n",
    "    qc.x(y)\n",
    "\n",
    "    qft = QFT(n, do_swaps=False)\n",
    "    qc.append(qft, y)\n",
    "\n",
    "    for i in range(n):\n",
    "        angle = 2 * np.pi * (a * (2 ** i)) / (2 ** n)\n",
    "        qc.cp(angle, anc[0], y[i])      \n",
    "\n",
    "    iqft = QFT(n, do_swaps=False, inverse=True)\n",
    "    qc.append(iqft, y)\n",
    "\n",
    "    qc.x(y)\n",
    "    qc.mcx(list(y) + [x[0]], anc[0])\n",
    "    qc.x(y)\n",
    "\n",
    "    return qc"
   ]
  },
{
   "cell_type": "markdown",
   "metadata": {},
   "source": [
    "In this next cell, I run the function modular_mult_oracle to print out the circuit for $a=7$ and $N=15$ (this should still work for other values of N):"
   ]
  },
  {
   "cell_type": "code",
   "execution_count": null,
   "metadata": {},
   "outputs": [],
   "source": [
    "oracle=modular_mult_oracle(a,N)\n",
    "print(f\"Circuit for a=7, N=15 ({oracle.num_qubits} qubits):\")\n",
    "oracle.draw(fold=-1)"
   ]
  },
{
   "cell_type": "markdown",
   "metadata": {},
   "source": [
    "In these next cell, I print out the circuit depth, the total qubit count, and the gate count."
   ]
  },
  {
   "cell_type": "code",
   "execution_count": null,
   "metadata": {},
   "outputs": [],
   "source": [
    "# Number of gates\n",
    "print(\"Gate counts:\")\n",
    "oracle.count_ops()"
   ]
  },
  {
   "cell_type": "code",
   "execution_count": null,
   "metadata": {},
   "outputs": [],
   "source": [
    "# Gate depth\n",
    "print(\"\\nCircuit depth:\")\n",
    "oracle.depth()"
   ]
  },
  {
   "cell_type": "code",
   "execution_count": null,
   "metadata": {},
   "outputs": [],
   "source": [
    "# Number of qubits\n",
    "print(\"\\nTotal qubits:\")\n",
    "oracle.num_qubits"
   ]
  },
{
   "cell_type": "markdown",
   "metadata": {},
   "source": [
    "In this next cell, I run a demo for a=7 and for y=5 and y=15, with N=15"
   ]
  },
{
   "cell_type": "code",
   "execution_count": null,
   "metadata": {},
   "outputs": [],
   "source": [
    "# Demo for N=15\n",
    "def demo_oracle(a, N, y_values):\n",
    "    n = int(np.ceil(np.log2(N)))\n",
    "    oracle = modular_mult_oracle(a, N)\n",
    "    \n",
    "    for y in y_values:\n",
    "        x_reg = QuantumRegister(1, 'x')\n",
    "        y_reg = QuantumRegister(n, 'y')\n",
    "        anc_reg = QuantumRegister(2, 'anc')\n",
    "        qc = QuantumCircuit(x_reg, y_reg, anc_reg)\n",
    "        \n",
    "        qc.x(x_reg) \n",
    "        y_bin = format(y, f'0{n}b')\n",
    "        for i, bit in enumerate(reversed(y_bin)):\n",
    "            if bit == '1':\n",
    "                qc.x(y_reg[i])\n",
    "        \n",
    "        qc.compose(oracle, inplace=True)\n",
    "        \n",
    "        state = Statevector(qc)\n",
    "        state_dict = state.probabilities_dict()  \n",
    "        \n",
    "        print(f\"\\nInput y = {y} ({y_bin}):\")\n",
    "        if y < N:\n",
    "            expected = (a * y) % N\n",
    "            expected_bin = format(expected, f'0{n}b')\n",
    "            print(f\"Expected: |1⟩|{expected_bin}⟩|00⟩ ({a}*{y} mod {N} = {expected})\")\n",
    "        else:\n",
    "            print(f\"Expected: |1⟩|{y_bin}⟩|00⟩ (unchanged)\")\n",
    "        \n",
    "        print(\"Output state (non-zero amplitudes):\")\n",
    "        for basis_state, prob in state_dict.items():\n",
    "            if not np.isclose(prob, 0):\n",
    "                print(f\"  |{basis_state}⟩: amplitude = {np.sqrt(prob):.4f}\")\n",
    "\n",
    "N = 15\n",
    "a = 7\n",
    "test_values = [5, 15] \n",
    "demo_oracle(a, N, test_values)"
   ]
  },
  {
   "cell_type": "markdown",
   "metadata": {},
   "source": [
    "The main source used was Brauregard (2003)"
   ]
  }
 ],
 "metadata": {
  "kernelspec": {
   "display_name": "Python 3",
   "language": "python",
   "name": "python3"
  },
  "language_info": {
   "codemirror_mode": {
    "name": "ipython",
    "version": 3
   },
   "file_extension": ".py",
   "mimetype": "text/x-python",
   "name": "python",
   "nbconvert_exporter": "python",
   "pygments_lexer": "ipython3",
   "version": "3.9.0"
  }
 },
 "nbformat": 4,
 "nbformat_minor": 4
}
